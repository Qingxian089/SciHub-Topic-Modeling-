{
 "cells": [
  {
   "cell_type": "code",
   "execution_count": 0,
   "metadata": {
    "application/vnd.databricks.v1+cell": {
     "inputWidgets": {},
     "nuid": "cf28fe01-b5c1-4c0b-b7ef-93091cf6a750",
     "showTitle": false,
     "title": ""
    }
   },
   "outputs": [],
   "source": [
    "%pip install PyPDF2"
   ]
  },
  {
   "cell_type": "code",
   "execution_count": 0,
   "metadata": {
    "application/vnd.databricks.v1+cell": {
     "inputWidgets": {},
     "nuid": "bc4e203b-8048-4307-868c-34042380c297",
     "showTitle": false,
     "title": ""
    }
   },
   "outputs": [
    {
     "data": {
      "text/html": [
       "<style scoped>\n",
       "  .ansiout {\n",
       "    display: block;\n",
       "    unicode-bidi: embed;\n",
       "    white-space: pre-wrap;\n",
       "    word-wrap: break-word;\n",
       "    word-break: break-all;\n",
       "    font-family: \"Source Code Pro\", \"Menlo\", monospace;;\n",
       "    font-size: 13px;\n",
       "    color: #555;\n",
       "    margin-left: 4px;\n",
       "    line-height: 19px;\n",
       "  }\n",
       "</style>\n",
       "<div class=\"ansiout\">[&#39;mnt/lsde/datasets/papers/4002.zip&#39;, &#39;mnt/lsde/datasets/papers/4003.zip&#39;, &#39;mnt/lsde/datasets/papers/4004.zip&#39;, &#39;mnt/lsde/datasets/papers/4005.zip&#39;, &#39;mnt/lsde/datasets/papers/4006.zip&#39;, &#39;mnt/lsde/datasets/papers/4007.zip&#39;, &#39;mnt/lsde/datasets/papers/4008.zip&#39;, &#39;mnt/lsde/datasets/papers/4009.zip&#39;, &#39;mnt/lsde/datasets/papers/4010.zip&#39;, &#39;mnt/lsde/datasets/papers/4011.zip&#39;, &#39;mnt/lsde/datasets/papers/4012.zip&#39;, &#39;mnt/lsde/datasets/papers/4013.zip&#39;, &#39;mnt/lsde/datasets/papers/4014.zip&#39;, &#39;mnt/lsde/datasets/papers/4015.zip&#39;, &#39;mnt/lsde/datasets/papers/4016.zip&#39;, &#39;mnt/lsde/datasets/papers/4017.zip&#39;, &#39;mnt/lsde/datasets/papers/4018.zip&#39;, &#39;mnt/lsde/datasets/papers/4019.zip&#39;, &#39;mnt/lsde/datasets/papers/4020.zip&#39;, &#39;mnt/lsde/datasets/papers/4021.zip&#39;, &#39;mnt/lsde/datasets/papers/4022.zip&#39;, &#39;mnt/lsde/datasets/papers/4023.zip&#39;, &#39;mnt/lsde/datasets/papers/4024.zip&#39;, &#39;mnt/lsde/datasets/papers/4025.zip&#39;, &#39;mnt/lsde/datasets/papers/4026.zip&#39;, &#39;mnt/lsde/datasets/papers/4027.zip&#39;, &#39;mnt/lsde/datasets/papers/4028.zip&#39;, &#39;mnt/lsde/datasets/papers/4029.zip&#39;, &#39;mnt/lsde/datasets/papers/4030.zip&#39;, &#39;mnt/lsde/datasets/papers/4031.zip&#39;, &#39;mnt/lsde/datasets/papers/4032.zip&#39;, &#39;mnt/lsde/datasets/papers/4033.zip&#39;, &#39;mnt/lsde/datasets/papers/4034.zip&#39;, &#39;mnt/lsde/datasets/papers/4035.zip&#39;, &#39;mnt/lsde/datasets/papers/4036.zip&#39;, &#39;mnt/lsde/datasets/papers/4037.zip&#39;, &#39;mnt/lsde/datasets/papers/4038.zip&#39;, &#39;mnt/lsde/datasets/papers/4039.zip&#39;, &#39;mnt/lsde/datasets/papers/4040.zip&#39;, &#39;mnt/lsde/datasets/papers/4041.zip&#39;, &#39;mnt/lsde/datasets/papers/4042.zip&#39;, &#39;mnt/lsde/datasets/papers/4043.zip&#39;, &#39;mnt/lsde/datasets/papers/4044.zip&#39;, &#39;mnt/lsde/datasets/papers/4045.zip&#39;, &#39;mnt/lsde/datasets/papers/4046.zip&#39;, &#39;mnt/lsde/datasets/papers/4047.zip&#39;, &#39;mnt/lsde/datasets/papers/4048.zip&#39;, &#39;mnt/lsde/datasets/papers/4049.zip&#39;, &#39;mnt/lsde/datasets/papers/4050.zip&#39;, &#39;mnt/lsde/datasets/papers/4051.zip&#39;, &#39;mnt/lsde/datasets/papers/4052.zip&#39;]\n",
       "</div>"
      ]
     },
     "metadata": {
      "application/vnd.databricks.v1+output": {
       "addedWidgets": {},
       "arguments": {},
       "data": "<div class=\"ansiout\">[&#39;mnt/lsde/datasets/papers/4002.zip&#39;, &#39;mnt/lsde/datasets/papers/4003.zip&#39;, &#39;mnt/lsde/datasets/papers/4004.zip&#39;, &#39;mnt/lsde/datasets/papers/4005.zip&#39;, &#39;mnt/lsde/datasets/papers/4006.zip&#39;, &#39;mnt/lsde/datasets/papers/4007.zip&#39;, &#39;mnt/lsde/datasets/papers/4008.zip&#39;, &#39;mnt/lsde/datasets/papers/4009.zip&#39;, &#39;mnt/lsde/datasets/papers/4010.zip&#39;, &#39;mnt/lsde/datasets/papers/4011.zip&#39;, &#39;mnt/lsde/datasets/papers/4012.zip&#39;, &#39;mnt/lsde/datasets/papers/4013.zip&#39;, &#39;mnt/lsde/datasets/papers/4014.zip&#39;, &#39;mnt/lsde/datasets/papers/4015.zip&#39;, &#39;mnt/lsde/datasets/papers/4016.zip&#39;, &#39;mnt/lsde/datasets/papers/4017.zip&#39;, &#39;mnt/lsde/datasets/papers/4018.zip&#39;, &#39;mnt/lsde/datasets/papers/4019.zip&#39;, &#39;mnt/lsde/datasets/papers/4020.zip&#39;, &#39;mnt/lsde/datasets/papers/4021.zip&#39;, &#39;mnt/lsde/datasets/papers/4022.zip&#39;, &#39;mnt/lsde/datasets/papers/4023.zip&#39;, &#39;mnt/lsde/datasets/papers/4024.zip&#39;, &#39;mnt/lsde/datasets/papers/4025.zip&#39;, &#39;mnt/lsde/datasets/papers/4026.zip&#39;, &#39;mnt/lsde/datasets/papers/4027.zip&#39;, &#39;mnt/lsde/datasets/papers/4028.zip&#39;, &#39;mnt/lsde/datasets/papers/4029.zip&#39;, &#39;mnt/lsde/datasets/papers/4030.zip&#39;, &#39;mnt/lsde/datasets/papers/4031.zip&#39;, &#39;mnt/lsde/datasets/papers/4032.zip&#39;, &#39;mnt/lsde/datasets/papers/4033.zip&#39;, &#39;mnt/lsde/datasets/papers/4034.zip&#39;, &#39;mnt/lsde/datasets/papers/4035.zip&#39;, &#39;mnt/lsde/datasets/papers/4036.zip&#39;, &#39;mnt/lsde/datasets/papers/4037.zip&#39;, &#39;mnt/lsde/datasets/papers/4038.zip&#39;, &#39;mnt/lsde/datasets/papers/4039.zip&#39;, &#39;mnt/lsde/datasets/papers/4040.zip&#39;, &#39;mnt/lsde/datasets/papers/4041.zip&#39;, &#39;mnt/lsde/datasets/papers/4042.zip&#39;, &#39;mnt/lsde/datasets/papers/4043.zip&#39;, &#39;mnt/lsde/datasets/papers/4044.zip&#39;, &#39;mnt/lsde/datasets/papers/4045.zip&#39;, &#39;mnt/lsde/datasets/papers/4046.zip&#39;, &#39;mnt/lsde/datasets/papers/4047.zip&#39;, &#39;mnt/lsde/datasets/papers/4048.zip&#39;, &#39;mnt/lsde/datasets/papers/4049.zip&#39;, &#39;mnt/lsde/datasets/papers/4050.zip&#39;, &#39;mnt/lsde/datasets/papers/4051.zip&#39;, &#39;mnt/lsde/datasets/papers/4052.zip&#39;]\n</div>",
       "datasetInfos": [],
       "metadata": {},
       "removedWidgets": [],
       "type": "html"
      }
     },
     "output_type": "display_data"
    }
   ],
   "source": [
    "#import libraries\n",
    "from pyspark.sql import SparkSession\n",
    "from pyspark.sql.types import *\n",
    "import zipfile\n",
    "import PyPDF2\n",
    "from PyPDF2 import PdfFileReader\n",
    "from io import BytesIO\n",
    "import re\n",
    "\n",
    "#spark context\n",
    "spark = SparkSession.builder.appName('DataSample').getOrCreate()\n",
    "sc = spark.sparkContext\n",
    "\n",
    "#read zip files as RDD\n",
    "zfile_test = []\n",
    "z_len = 4076 #amounts of zip files\n",
    "for i in range(1,z_len):\n",
    "    path = 'mnt/lsde/datasets/papers/'+str(i)+'.zip'\n",
    "    zfile_test.append(path)\n",
    "z_test = sc.binaryFiles(','.join(zfile_test))\n",
    "print(zfile_test)"
   ]
  },
  {
   "cell_type": "code",
   "execution_count": 0,
   "metadata": {
    "application/vnd.databricks.v1+cell": {
     "inputWidgets": {},
     "nuid": "65ecf772-572e-4778-a604-d50fdc2dcc4e",
     "showTitle": false,
     "title": ""
    }
   },
   "outputs": [
    {
     "data": {
      "text/html": [
       "<style scoped>\n",
       "  .ansiout {\n",
       "    display: block;\n",
       "    unicode-bidi: embed;\n",
       "    white-space: pre-wrap;\n",
       "    word-wrap: break-word;\n",
       "    word-break: break-all;\n",
       "    font-family: \"Source Code Pro\", \"Menlo\", monospace;;\n",
       "    font-size: 13px;\n",
       "    color: #555;\n",
       "    margin-left: 4px;\n",
       "    line-height: 19px;\n",
       "  }\n",
       "</style>\n",
       "<div class=\"ansiout\"></div>"
      ]
     },
     "metadata": {
      "application/vnd.databricks.v1+output": {
       "addedWidgets": {},
       "arguments": {},
       "data": "<div class=\"ansiout\"></div>",
       "datasetInfos": [],
       "metadata": {},
       "removedWidgets": [],
       "type": "html"
      }
     },
     "output_type": "display_data"
    }
   ],
   "source": [
    "def zip_extract(x):\n",
    "    '''\n",
    "    x: zip content\n",
    "    return: (pdf file name, pdf contebt)\n",
    "    both zip content and pdf content are stored in a binary format\n",
    "    '''\n",
    "    in_memory_data = BytesIO(x[1])\n",
    "    file_obj = zipfile.ZipFile(in_memory_data, \"r\")\n",
    "    names = [i for i in file_obj.namelist()]\n",
    "    files = names[1:]  \n",
    "    return zip(files, [file_obj.open(file).read() for file in files]) #merge as path:bytes\n",
    "\n",
    "def get_metadata(pdf_toread):\n",
    "    '''\n",
    "    pdf_toread: pdf content\n",
    "    return: [year,title,subject]\n",
    "    '''\n",
    "    md_key = ['/CreationDate','/Title','/Subject']\n",
    "    info = pdf_toread.getDocumentInfo()\n",
    "    if all(i in info for i in md_key): #\"getPage\" is the most time-cost operation, so we removed the rows which have null values in its metadata before we start to getPage\n",
    "        year = str(info[md_key[0]][2:6])\n",
    "        title = str(info[md_key[1]])\n",
    "        subject = str(info[md_key[2]])\n",
    "        subj_filter = ['','subject']\n",
    "        if all(subject != i for i in subj_filter):\n",
    "            md = [year,title,subject]\n",
    "            return md\n",
    "    else:\n",
    "        return ''\n",
    "    \n",
    "def read_info(pdf):\n",
    "    '''\n",
    "    pdf: (pdf file name, pdf contebt)\n",
    "    return:[year,title,subject,content]\n",
    "    '''\n",
    "    try:\n",
    "        #get pdf object\n",
    "        pdf_toread = PyPDF2.PdfReader(BytesIO(pdf[1]))\n",
    "        md = get_metadata(pdf_toread)\n",
    "        if md != '': \n",
    "            page = pdf_toread.getPage(1).extract_text()\n",
    "            tmp = re.split('\\n',page)\n",
    "            content = ','.join(tmp)\n",
    "            info = md+[content]\n",
    "            return tuple(info)\n",
    "        else:\n",
    "            return ''\n",
    "    except:\n",
    "        print('!')\n",
    "        return ''"
   ]
  },
  {
   "cell_type": "code",
   "execution_count": 0,
   "metadata": {
    "application/vnd.databricks.v1+cell": {
     "inputWidgets": {},
     "nuid": "57fc7f3f-0ff6-46bd-9926-2fa14f4b0a7f",
     "showTitle": false,
     "title": ""
    }
   },
   "outputs": [
    {
     "data": {
      "text/html": [
       "<style scoped>\n",
       "  .ansiout {\n",
       "    display: block;\n",
       "    unicode-bidi: embed;\n",
       "    white-space: pre-wrap;\n",
       "    word-wrap: break-word;\n",
       "    word-break: break-all;\n",
       "    font-family: \"Source Code Pro\", \"Menlo\", monospace;;\n",
       "    font-size: 13px;\n",
       "    color: #555;\n",
       "    margin-left: 4px;\n",
       "    line-height: 19px;\n",
       "  }\n",
       "</style>\n",
       "<div class=\"ansiout\">root\n",
       "-- year: string (nullable = true)\n",
       "-- title: string (nullable = true)\n",
       "-- subject: string (nullable = true)\n",
       "-- content: string (nullable = true)\n",
       "\n",
       "+----+--------------------+--------------------+--------------------+\n",
       "year|               title|             subject|             content|\n",
       "+----+--------------------+--------------------+--------------------+\n",
       "2010|Modelling and tra...|International Jou...|Irvine, H.M., 198...|\n",
       "2011|A novel contrast ...|            7625-112|REFERENCES  ,[1] ...|\n",
       "2011|Ultrasonic relaxa...|Current Applied P...|unit, i.e., is in...|\n",
       "2013|IFIP AICT 392 - A...|Computer and Comp...|358 P. Han et al....|\n",
       "2007|Natural Theology ...|   Religious Studies|http://journals.c...|\n",
       "2014|Royal Society of ...|, 7 (1924) 706-71...|710 ROYAL SOCIETY...|\n",
       "2010|Design of a predi...|             7625-45| , [11] Leventon,...|\n",
       "2013|IFIP AICT 392 - A...|Computer and Comp...|358 P. Han et al....|\n",
       "2011|Electrical and el...|Current Applied P...|References,[1] P....|\n",
       "2010|Variational analy...|International Jou...|References,Aifant...|\n",
       "2007|Philo&#39;s Final Con...|   Religious Studies|http://journals.c...|\n",
       "2013|IFIP AICT 392 - A...|Computer and Comp...|358 P. Han et al....|\n",
       "2014|Houston Ophthalmo...|, 7 (1924) 710-71...|SOCIETY PROCEEDIN...|\n",
       "th J|High mobility org...|Current Applied P...|[3] T. Sekitani, ...|\n",
       "2013|IFIP AICT 392 - A...|Computer and Comp...|358 P. Han et al....|\n",
       "2014|College of Physic...|, 7 (1924) 711-71...|716 COLLEGE OP PH...|\n",
       "2010|Prediction of for...|International Jou...|Volk, W., Illig, ...|\n",
       "2007|The Use of Symbol...|   Religious Studies|http://journals.c...|\n",
       "2012|Enhanced luminesc...|Current Applied P...|changes in chroma...|\n",
       "2013|IFIP AICT 392 - A...|Computer and Comp...|358 P. Han et al....|\n",
       "+----+--------------------+--------------------+--------------------+\n",
       "only showing top 20 rows\n",
       "\n",
       "</div>"
      ]
     },
     "metadata": {
      "application/vnd.databricks.v1+output": {
       "addedWidgets": {},
       "arguments": {},
       "data": "<div class=\"ansiout\">root\n |-- year: string (nullable = true)\n |-- title: string (nullable = true)\n |-- subject: string (nullable = true)\n |-- content: string (nullable = true)\n\n+----+--------------------+--------------------+--------------------+\n|year|               title|             subject|             content|\n+----+--------------------+--------------------+--------------------+\n|2010|Modelling and tra...|International Jou...|Irvine, H.M., 198...|\n|2011|A novel contrast ...|            7625-112|REFERENCES  ,[1] ...|\n|2011|Ultrasonic relaxa...|Current Applied P...|unit, i.e., is in...|\n|2013|IFIP AICT 392 - A...|Computer and Comp...|358 P. Han et al....|\n|2007|Natural Theology ...|   Religious Studies|http://journals.c...|\n|2014|Royal Society of ...|, 7 (1924) 706-71...|710 ROYAL SOCIETY...|\n|2010|Design of a predi...|             7625-45| , [11] Leventon,...|\n|2013|IFIP AICT 392 - A...|Computer and Comp...|358 P. Han et al....|\n|2011|Electrical and el...|Current Applied P...|References,[1] P....|\n|2010|Variational analy...|International Jou...|References,Aifant...|\n|2007|Philo&#39;s Final Con...|   Religious Studies|http://journals.c...|\n|2013|IFIP AICT 392 - A...|Computer and Comp...|358 P. Han et al....|\n|2014|Houston Ophthalmo...|, 7 (1924) 710-71...|SOCIETY PROCEEDIN...|\n|th J|High mobility org...|Current Applied P...|[3] T. Sekitani, ...|\n|2013|IFIP AICT 392 - A...|Computer and Comp...|358 P. Han et al....|\n|2014|College of Physic...|, 7 (1924) 711-71...|716 COLLEGE OP PH...|\n|2010|Prediction of for...|International Jou...|Volk, W., Illig, ...|\n|2007|The Use of Symbol...|   Religious Studies|http://journals.c...|\n|2012|Enhanced luminesc...|Current Applied P...|changes in chroma...|\n|2013|IFIP AICT 392 - A...|Computer and Comp...|358 P. Han et al....|\n+----+--------------------+--------------------+--------------------+\nonly showing top 20 rows\n\n</div>",
       "datasetInfos": [],
       "metadata": {},
       "removedWidgets": [],
       "type": "html"
      }
     },
     "output_type": "display_data"
    }
   ],
   "source": [
    "pdfs = z_test.flatMap(zip_extract).map(read_info).filter(lambda x : x!='') \n",
    "\n",
    "#show the data extraction result\n",
    "columns = [\"year\",\"title\",\"subject\",\"content\"]\n",
    "df = pdfs.toDF(columns)\n",
    "df.printSchema()\n",
    "df.show()\n",
    "\n",
    "#df.write.option(\"header\", True).csv(\"/mnt/lsde/group14/data_1200-1399\")"
   ]
  },
  {
   "cell_type": "code",
   "execution_count": 0,
   "metadata": {
    "application/vnd.databricks.v1+cell": {
     "inputWidgets": {},
     "nuid": "0c040686-8349-4c2b-ab58-7b1f1a12be2f",
     "showTitle": false,
     "title": ""
    }
   },
   "outputs": [],
   "source": [
    "#save as a csv\n",
    "df.write.option(\"header\", True).csv(\"/mnt/lsde/group14/1-4076\")"
   ]
  }
 ],
 "metadata": {
  "application/vnd.databricks.v1+notebook": {
   "dashboards": [],
   "language": "python",
   "notebookMetadata": {
    "pythonIndentUnit": 4
   },
   "notebookName": "data extraction",
   "notebookOrigID": 71886364994560,
   "widgets": {}
  },
  "kernelspec": {
   "display_name": "Python 3 (ipykernel)",
   "language": "python",
   "name": "python3"
  },
  "language_info": {
   "codemirror_mode": {
    "name": "ipython",
    "version": 3
   },
   "file_extension": ".py",
   "mimetype": "text/x-python",
   "name": "python",
   "nbconvert_exporter": "python",
   "pygments_lexer": "ipython3",
   "version": "3.9.13"
  }
 },
 "nbformat": 4,
 "nbformat_minor": 1
}
